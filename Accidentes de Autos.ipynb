{
 "cells": [
  {
   "cell_type": "code",
   "execution_count": 1,
   "id": "1128842b",
   "metadata": {},
   "outputs": [],
   "source": [
    "import pandas as pd\n",
    "import numpy as np\n",
    "import matplotlib.pyplot as plt\n",
    "import seaborn as sns"
   ]
  },
  {
   "cell_type": "code",
   "execution_count": 7,
   "id": "ad34f184",
   "metadata": {},
   "outputs": [
    {
     "data": {
      "text/html": [
       "<div>\n",
       "<style scoped>\n",
       "    .dataframe tbody tr th:only-of-type {\n",
       "        vertical-align: middle;\n",
       "    }\n",
       "\n",
       "    .dataframe tbody tr th {\n",
       "        vertical-align: top;\n",
       "    }\n",
       "\n",
       "    .dataframe thead th {\n",
       "        text-align: right;\n",
       "    }\n",
       "</style>\n",
       "<table border=\"1\" class=\"dataframe\">\n",
       "  <thead>\n",
       "    <tr style=\"text-align: right;\">\n",
       "      <th></th>\n",
       "      <th>Year</th>\n",
       "      <th>Date Of Incident</th>\n",
       "      <th>Route</th>\n",
       "      <th>Operator</th>\n",
       "      <th>Group Name</th>\n",
       "      <th>Bus Garage</th>\n",
       "      <th>Borough</th>\n",
       "      <th>Injury Result Description</th>\n",
       "      <th>Incident Event Type</th>\n",
       "      <th>Victim Category</th>\n",
       "      <th>Victims Sex</th>\n",
       "      <th>Victims Age</th>\n",
       "    </tr>\n",
       "  </thead>\n",
       "  <tbody>\n",
       "    <tr>\n",
       "      <th>23153</th>\n",
       "      <td>2018</td>\n",
       "      <td>2018-09-01</td>\n",
       "      <td>(blank)</td>\n",
       "      <td>East London</td>\n",
       "      <td>Stagecoach</td>\n",
       "      <td>West Ham</td>\n",
       "      <td>Newham</td>\n",
       "      <td>Injuries treated on scene</td>\n",
       "      <td>Personal Injury</td>\n",
       "      <td>Bus Driver</td>\n",
       "      <td>Male</td>\n",
       "      <td>Adult</td>\n",
       "    </tr>\n",
       "    <tr>\n",
       "      <th>23154</th>\n",
       "      <td>2018</td>\n",
       "      <td>2018-09-01</td>\n",
       "      <td>(blank)</td>\n",
       "      <td>London United</td>\n",
       "      <td>London United</td>\n",
       "      <td>Hounslow</td>\n",
       "      <td>Not specified</td>\n",
       "      <td>Injuries treated on scene</td>\n",
       "      <td>Personal Injury</td>\n",
       "      <td>Bus Driver</td>\n",
       "      <td>Male</td>\n",
       "      <td>Adult</td>\n",
       "    </tr>\n",
       "    <tr>\n",
       "      <th>23155</th>\n",
       "      <td>2018</td>\n",
       "      <td>2018-09-01</td>\n",
       "      <td>(blank)</td>\n",
       "      <td>London United</td>\n",
       "      <td>London United</td>\n",
       "      <td>Park Royal</td>\n",
       "      <td>Harrow</td>\n",
       "      <td>Injuries treated on scene</td>\n",
       "      <td>Slip Trip Fall</td>\n",
       "      <td>Operational Staff</td>\n",
       "      <td>Male</td>\n",
       "      <td>Adult</td>\n",
       "    </tr>\n",
       "    <tr>\n",
       "      <th>23156</th>\n",
       "      <td>2018</td>\n",
       "      <td>2018-09-01</td>\n",
       "      <td>(blank)</td>\n",
       "      <td>London United</td>\n",
       "      <td>London United</td>\n",
       "      <td>Shepherds Bush</td>\n",
       "      <td>Hammersmith &amp; Fulham</td>\n",
       "      <td>Injuries treated on scene</td>\n",
       "      <td>Personal Injury</td>\n",
       "      <td>Bus Driver</td>\n",
       "      <td>Male</td>\n",
       "      <td>Adult</td>\n",
       "    </tr>\n",
       "    <tr>\n",
       "      <th>23157</th>\n",
       "      <td>2018</td>\n",
       "      <td>2018-09-01</td>\n",
       "      <td>(blank)</td>\n",
       "      <td>Metroline</td>\n",
       "      <td>Metroline</td>\n",
       "      <td>Holloway</td>\n",
       "      <td>Islington</td>\n",
       "      <td>Injuries treated on scene</td>\n",
       "      <td>Personal Injury</td>\n",
       "      <td>Other</td>\n",
       "      <td>Unknown</td>\n",
       "      <td>Unknown</td>\n",
       "    </tr>\n",
       "  </tbody>\n",
       "</table>\n",
       "</div>"
      ],
      "text/plain": [
       "       Year Date Of Incident    Route       Operator     Group Name  \\\n",
       "23153  2018       2018-09-01  (blank)    East London     Stagecoach   \n",
       "23154  2018       2018-09-01  (blank)  London United  London United   \n",
       "23155  2018       2018-09-01  (blank)  London United  London United   \n",
       "23156  2018       2018-09-01  (blank)  London United  London United   \n",
       "23157  2018       2018-09-01  (blank)      Metroline      Metroline   \n",
       "\n",
       "           Bus Garage               Borough  Injury Result Description  \\\n",
       "23153        West Ham                Newham  Injuries treated on scene   \n",
       "23154        Hounslow         Not specified  Injuries treated on scene   \n",
       "23155      Park Royal                Harrow  Injuries treated on scene   \n",
       "23156  Shepherds Bush  Hammersmith & Fulham  Injuries treated on scene   \n",
       "23157        Holloway             Islington  Injuries treated on scene   \n",
       "\n",
       "      Incident Event Type    Victim Category Victims Sex Victims Age  \n",
       "23153     Personal Injury         Bus Driver        Male       Adult  \n",
       "23154     Personal Injury         Bus Driver        Male       Adult  \n",
       "23155      Slip Trip Fall  Operational Staff        Male       Adult  \n",
       "23156     Personal Injury         Bus Driver        Male       Adult  \n",
       "23157     Personal Injury              Other     Unknown     Unknown  "
      ]
     },
     "execution_count": 7,
     "metadata": {},
     "output_type": "execute_result"
    }
   ],
   "source": [
    "df=pd.read_excel('bus_accidents_data.xlsx')\n",
    "df.tail()"
   ]
  },
  {
   "cell_type": "code",
   "execution_count": 5,
   "id": "a8dc89e0",
   "metadata": {},
   "outputs": [
    {
     "data": {
      "text/plain": [
       "Index(['Year', 'Date Of Incident', 'Route', 'Operator', 'Group Name',\n",
       "       'Bus Garage', 'Borough', 'Injury Result Description',\n",
       "       'Incident Event Type', 'Victim Category', 'Victims Sex', 'Victims Age'],\n",
       "      dtype='object')"
      ]
     },
     "execution_count": 5,
     "metadata": {},
     "output_type": "execute_result"
    }
   ],
   "source": [
    "df.columns"
   ]
  },
  {
   "cell_type": "code",
   "execution_count": 6,
   "id": "3dfdd6dd",
   "metadata": {},
   "outputs": [
    {
     "name": "stdout",
     "output_type": "stream",
     "text": [
      "2018    4777\n",
      "2017    6573\n",
      "2016    6093\n",
      "2015    5715\n",
      "Name: Year, dtype: int64\n"
     ]
    }
   ],
   "source": [
    "accidents_by_year = df['Year'].value_counts().sort_index(ascending=False)\n",
    "print(accidents_by_year)"
   ]
  },
  {
   "cell_type": "code",
   "execution_count": 10,
   "id": "f0b1ec17",
   "metadata": {},
   "outputs": [
    {
     "data": {
      "image/png": "[encoded data removed]",
      "text/plain": [
       "<Figure size 720x432 with 1 Axes>"
      ]
     },
     "metadata": {
      "needs_background": "light"
     },
     "output_type": "display_data"
    }
   ],
   "source": [
    "plt.figure(figsize=(10, 6))\n",
    "accidents_by_year.plot(kind='bar', color='skyblue')\n",
    "plt.title('Cantidad de Accidentes de Autobús por Año')\n",
    "plt.xlabel('Año')\n",
    "plt.ylabel('Número de Accidentes')\n",
    "plt.show()"
   ]
  },
  {
   "cell_type": "code",
   "execution_count": 11,
   "id": "04d6147f",
   "metadata": {},
   "outputs": [
    {
     "data": {
      "text/plain": [
       "0                                Injuries treated on scene\n",
       "1                                Injuries treated on scene\n",
       "2        Taken to Hospital – Reported Serious Injury or...\n",
       "3        Taken to Hospital – Reported Serious Injury or...\n",
       "4              Reported Minor Injury - Treated at Hospital\n",
       "                               ...                        \n",
       "23153                            Injuries treated on scene\n",
       "23154                            Injuries treated on scene\n",
       "23155                            Injuries treated on scene\n",
       "23156                            Injuries treated on scene\n",
       "23157                            Injuries treated on scene\n",
       "Name: Injury Result Description, Length: 23158, dtype: object"
      ]
     },
     "execution_count": 11,
     "metadata": {},
     "output_type": "execute_result"
    }
   ],
   "source": [
    "type_injury=df['Injury Result Description']\n",
    "type_injury"
   ]
  },
  {
   "cell_type": "code",
   "execution_count": 13,
   "id": "85847921",
   "metadata": {},
   "outputs": [
    {
     "data": {
      "image/png": "[encoded data removed]",
      "text/plain": [
       "<Figure size 864x432 with 1 Axes>"
      ]
     },
     "metadata": {
      "needs_background": "light"
     },
     "output_type": "display_data"
    }
   ],
   "source": [
    "type_injury = df['Injury Result Description'].value_counts()\n",
    "\n",
    "plt.figure(figsize=(12, 6))\n",
    "type_injury.plot(kind='bar', color='skyblue')\n",
    "plt.title('Cantidad de Accidentes por Tipo de Lesión')\n",
    "plt.xlabel('Tipo de Lesión')\n",
    "plt.ylabel('Número de Accidentes')\n",
    "plt.xticks(rotation=45, ha='right') \n",
    "plt.tight_layout()\n",
    "plt.show()"
   ]
  },
  {
   "cell_type": "code",
   "execution_count": 15,
   "id": "9e152c21",
   "metadata": {},
   "outputs": [],
   "source": [
    "by_sex=df['Victims Sex']"
   ]
  },
  {
   "cell_type": "code",
   "execution_count": 17,
   "id": "4706f545",
   "metadata": {},
   "outputs": [
    {
     "data": {
      "image/png": "[encoded data removed]",
      "text/plain": [
       "<Figure size 864x432 with 1 Axes>"
      ]
     },
     "metadata": {
      "needs_background": "light"
     },
     "output_type": "display_data"
    }
   ],
   "source": [
    "by_sex = df['Victims Sex'].value_counts()\n",
    "\n",
    "plt.figure(figsize=(12, 6))\n",
    "by_sex.plot(kind='bar', color='skyblue')\n",
    "plt.title('Cantidad de Accidentes por Sexo')\n",
    "plt.xlabel('Sexo')\n",
    "plt.ylabel('Número de Accidentes')\n",
    "plt.xticks(rotation=45, ha='right') \n",
    "plt.tight_layout()\n",
    "plt.show()"
   ]
  },
  {
   "cell_type": "code",
   "execution_count": 18,
   "id": "898ee647",
   "metadata": {},
   "outputs": [],
   "source": [
    "# Podemos observar que desde 2015 al 2018 casi no hubo heridos fatales en los accidentes de trafico. \n",
    "# En general, hay mas accidentes de mujeres que de hombres."
   ]
  },
  {
   "cell_type": "code",
   "execution_count": null,
   "id": "064bb9f7",
   "metadata": {},
   "outputs": [],
   "source": []
  }
 ],
 "metadata": {
  "kernelspec": {
   "display_name": "Python 3 (ipykernel)",
   "language": "python",
   "name": "python3"
  },
  "language_info": {
   "codemirror_mode": {
    "name": "ipython",
    "version": 3
   },
   "file_extension": ".py",
   "mimetype": "text/x-python",
   "name": "python",
   "nbconvert_exporter": "python",
   "pygments_lexer": "ipython3",
   "version": "3.10.5"
  }
 },
 "nbformat": 4,
 "nbformat_minor": 5
}
